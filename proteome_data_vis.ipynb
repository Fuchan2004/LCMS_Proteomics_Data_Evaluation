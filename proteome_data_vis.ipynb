{
 "cells": [
  {
   "cell_type": "markdown",
   "id": "15502a3a",
   "metadata": {},
   "source": [
    "# Proteome evaluation and data visualization"
   ]
  },
  {
   "cell_type": "markdown",
   "id": "f8a24298",
   "metadata": {},
   "source": [
    "This code guides you through the evaluation of DDA data aquired as excel sheet from Scaffold. The excel sheet should contain total spectral counts. "
   ]
  },
  {
   "cell_type": "markdown",
   "id": "4ddd079a",
   "metadata": {},
   "source": [
    "### Import Libraries"
   ]
  },
  {
   "cell_type": "code",
   "execution_count": 21,
   "id": "c67ab689",
   "metadata": {},
   "outputs": [],
   "source": [
    "import os\n",
    "import pandas as pd\n",
    "import numpy as np\n",
    "from scipy import stats\n",
    "import matplotlib.pyplot as plt\n",
    "import seaborn as sns\n",
    "from collections import OrderedDict\n",
    "import re \n",
    "import plotly.graph_objects as go\n",
    "import math\n",
    "import dash_bio"
   ]
  },
  {
   "cell_type": "markdown",
   "id": "d53865ed",
   "metadata": {},
   "source": [
    "### File Preparation\n",
    "The files downloaded from scaffold are '.xls' files and contain a header and two lines at the end of the file which need to be removed prior to uploading the data. After removing the header, save the files as .txt file and upload them to your desired folder. The file should have following format: "
   ]
  },
  {
   "cell_type": "code",
   "execution_count": 22,
   "id": "16c7b136",
   "metadata": {},
   "outputs": [],
   "source": [
    "TEST=pd.read_csv('/vortexfs1/home/fadime.stemmer/0124_rpom_proteolysis/data/proteomes/DSS-3/Proteome_TSC_240216_Fadime_rpom_ProMM.txt', delimiter='\\t')\n",
    "#print(TEST)"
   ]
  },
  {
   "cell_type": "markdown",
   "id": "276d4d49",
   "metadata": {},
   "source": [
    "### Load Data\n",
    "Next we can upload the .txt files as pandas dataframe and print to make sure they are there. "
   ]
  },
  {
   "cell_type": "code",
   "execution_count": 23,
   "id": "f605690d",
   "metadata": {},
   "outputs": [],
   "source": [
    "# DSS3\n",
    "DSS3_ProMM = pd.read_csv('/vortexfs1/home/fadime.stemmer/0124_rpom_proteolysis/data/proteomes/DSS-3/Annotated_Proteome_TSC_240216_Fadime_rpom_ProMM.txt', delimiter='\\t')\n",
    "#print(DSS_3_ProMM)\n",
    "DSS3_ACD = pd.read_csv('/vortexfs1/home/fadime.stemmer/0124_rpom_proteolysis/data/proteomes/DSS-3/Annotated_240321_Rpom_ACD.txt', delimiter='\\t')\n",
    "#print(DSS_3_ACD)\n",
    "DSS3stat_ACD = pd.read_csv('/vortexfs1/home/fadime.stemmer/0124_rpom_proteolysis/data/proteomes/DSS-3/Annotated_20240514_DSS3_ACD_stationary.txt', delimiter='\\t')\n",
    "#print(DSS3stat_ACD)\n",
    "DSS3stat_ProMM = pd.read_csv('/vortexfs1/home/fadime.stemmer/0124_rpom_proteolysis/data/proteomes/DSS-3/Annotated_240613_DSS3_ProMM_stationary.txt', delimiter='\\t')\n",
    "#print(DSS3stat_ProMM)\n",
    "DSS3_Secretome = pd.read_csv('/vortexfs1/home/fadime.stemmer/0124_rpom_proteolysis/data/proteomes/DSS-3/Annotated_240618_Secretome_DSS3.txt', delimiter='\\t')\n",
    "#print(DSS3_Secretome)\n",
    "\n",
    "# MIT1002\n",
    "MIT1002_ACD = pd.read_csv('/vortexfs1/home/fadime.stemmer/0124_rpom_proteolysis/data/proteomes/MIT1002/Proteome_TSC_240201_Fadime_MIT1002.txt', delimiter='\\t')\n",
    "#print(MIT1002_ACD)\n",
    "MIT1002_ProMM = pd.read_csv('/vortexfs1/home/fadime.stemmer/0124_rpom_proteolysis/data/proteomes/MIT1002/240430_Fadime_MIT1002_ProMM_TSC.txt', delimiter='\\t')\n",
    "#print(MIT1002_ProMM)\n",
    "MIT1002stat_ACD = pd.read_csv('/vortexfs1/home/fadime.stemmer/0124_rpom_proteolysis/data/proteomes/MIT1002/20240514_MIT1002_ACD_stationary.txt', delimiter='\\t')\n",
    "#print(MIT1002stat_ACD)\n",
    "MIT1002stat_ProMM = pd.read_csv('/vortexfs1/home/fadime.stemmer/0124_rpom_proteolysis/data/proteomes/MIT1002/240522_Fadime_MIT1002_ProMM_stationary.txt', delimiter='\\t')\n",
    "#print(MIT1002stat_ProMM)\n",
    "MIT1002_Secretome = pd.read_csv('/vortexfs1/home/fadime.stemmer/0124_rpom_proteolysis/data/proteomes/MIT1002/240617_Secretome_MIT1002.txt', delimiter='\\t')\n",
    "#print(MIT1002_Secretome)"
   ]
  },
  {
   "cell_type": "markdown",
   "id": "2b4e3b57",
   "metadata": {},
   "source": [
    "## Statistics\n",
    "### Average Triplicates\n",
    "Next we can average the triplicate analyses and include statistics in our plots. "
   ]
  },
  {
   "cell_type": "code",
   "execution_count": 24,
   "id": "bca130d9",
   "metadata": {},
   "outputs": [],
   "source": [
    "# Selecting the relevant columns \n",
    "DSS3_ProMM123 = DSS3_ProMM[['240216_Fadime_astral_1ug_Rpom_1', '240216_Fadime_astral_1ug_Rpom_2', '240216_Fadime_astral_1ug_Rpom_3']] \n",
    "DSS3_ACD123 = DSS3_ACD[['240312_2ug_Fadime_1', '240312_2ug_Fadime_2', '240312_2ug_Fadime_3']] \n",
    "DSS3stat_ACD123 = DSS3stat_ACD[['20240430_RpomDSS3_ACD_stationary1', '20240430_RpomDSS3_ACD_stationary2', '20240430_RpomDSS3_ACD_stationary3']] \n",
    "DSS3stat_ProMM123 = DSS3stat_ProMM[['240514_Fadime_Rpom_DSS3_1', '240514_Fadime_Rpom_DSS3_2', '240514_Fadime_Rpom_DSS3_3']] \n",
    "DSS3_sec_ACD123 = DSS3_Secretome[['240613_Fadime_astral_1ug_DSS3_ACD_Sec_1', '240613_Fadime_astral_1ug_DSS3_ACD_Sec_2', '240613_Fadime_astral_1ug_DSS3_ACD_Sec_3']] \n",
    "DSS3_sec_ProMM123 = DSS3_Secretome[['240613_Fadime_astral_1ug_DSS3_ProMM_Sec_1', '240613_Fadime_astral_1ug_DSS3_ProMM_Sec_2', '240613_Fadime_astral_1ug_DSS3_ProMM_Sec_3']] \n",
    "\n",
    "MIT1002_ACD123 = MIT1002_ACD[['240201_Fadime_1b', '240201_Fadime_2b', '240201_Fadime_3b']] \n",
    "MIT1002_ProMM123 = MIT1002_ProMM[['240424_Fadime_astral_1ug_Amac_1', '240424_Fadime_astral_1ug_Amac_2', '240424_Fadime_astral_1ug_Amac_3']] \n",
    "MIT1002stat_ACD123 = MIT1002stat_ACD[['20240430_AmacMIT1002_ACD_stationary1', '20240430_AmacMIT1002_ACD_stationary2', '20240430_AmacMIT1002_ACD_stationary3']] \n",
    "MIT1002stat_ProMM123 = MIT1002stat_ProMM[['240514_Fadime_Alteromonas_MIT1002_1', '240514_Fadime_Alteromonas_MIT1002_2', '240514_Fadime_Alteromonas_MIT1002_3']] \n",
    "MIT1002_sec_ACD123 = MIT1002_Secretome[['240613_Fadime_astral_1ug_MIT1002_ACD_Sec_1', '240613_Fadime_astral_1ug_MIT1002_ACD_Sec_2', '240613_Fadime_astral_1ug_MIT1002_ACD_Sec_3']] \n",
    "MIT1002_sec_ProMM123 = MIT1002_Secretome[['240613_Fadime_astral_1ug_MIT1002_ProMM_Sec_1', '240613_Fadime_astral_1ug_MIT1002_ProMM_Sec_2', '240613_Fadime_astral_1ug_MIT1002_ProMM_Sec_3']] "
   ]
  },
  {
   "cell_type": "code",
   "execution_count": 25,
   "id": "bbff2f56",
   "metadata": {},
   "outputs": [],
   "source": [
    "# Computing the row-wise average \n",
    "def statistics(df1, df2):\n",
    "    row_wise_average = df1.mean(axis=1)\n",
    "    standard_deviation = df1.std(axis=1)\n",
    "    df2['Row_Average']= row_wise_average\n",
    "    df2['STD'] = standard_deviation\n",
    "    \n",
    "def statistics_Secretome(df1, df2, df3):\n",
    "    row_wise_average_A = df1.mean(axis=1)\n",
    "    standard_deviation_A = df1.std(axis=1)\n",
    "    row_wise_average_P = df2.mean(axis=1)\n",
    "    standard_deviation_P = df2.std(axis=1)\n",
    "    df3['Row_Average_A']= row_wise_average_A\n",
    "    df3['STD_A'] = standard_deviation_A\n",
    "    df3['Row_Average_P']= row_wise_average_P\n",
    "    df3['STD_P'] = standard_deviation_P"
   ]
  },
  {
   "cell_type": "code",
   "execution_count": 26,
   "id": "b05cad84",
   "metadata": {},
   "outputs": [],
   "source": [
    "statistics(DSS3_ProMM123, DSS3_ProMM)\n",
    "statistics(DSS3_ACD123, DSS3_ACD)\n",
    "statistics(DSS3stat_ProMM123, DSS3stat_ProMM)\n",
    "statistics(DSS3stat_ACD123, DSS3stat_ACD)\n",
    "statistics_Secretome(DSS3_sec_ACD123, DSS3_sec_ProMM123, DSS3_Secretome)\n",
    "\n",
    "statistics(MIT1002_ProMM123, MIT1002_ProMM)\n",
    "statistics(MIT1002_ACD123, MIT1002_ACD)\n",
    "statistics(MIT1002stat_ProMM123, MIT1002stat_ProMM)\n",
    "statistics(MIT1002stat_ACD123, MIT1002stat_ACD)\n",
    "statistics_Secretome(MIT1002_sec_ACD123, MIT1002_sec_ProMM123, MIT1002_Secretome)\n",
    "\n",
    "#print(MIT1002_Secretome)"
   ]
  },
  {
   "cell_type": "markdown",
   "id": "fb862a55",
   "metadata": {},
   "source": [
    "### Match Annotations of different files\n",
    "\n",
    "Each of the experiments will have different proteins showing up at different numbers. In order to being able to compare treatments from different samples, we need to match the protein annotations, therefore the length of the arrays and fill in 0 for when the protein appears in one treatment but not the other. \n",
    "\n",
    "\n",
    "    Sorts the given DataFrame by 'Accession Number' and retains only specific columns.\n",
    "    \n",
    "    Parameters:\n",
    "    df (pd.DataFrame): The input DataFrame to be sorted and filtered.\n",
    "    \n",
    "    Returns:\n",
    "    pd.DataFrame: The sorted and filtered DataFrame.\n"
   ]
  },
  {
   "cell_type": "code",
   "execution_count": 27,
   "id": "03b12198",
   "metadata": {},
   "outputs": [],
   "source": [
    "# Rename Identified Proteins column for MIT1002\n",
    "MIT1002_ACD.rename(columns={'Identified Proteins (1608)': 'Annotation'}, inplace=True)\n",
    "MIT1002stat_ACD.rename(columns={'Identified Proteins (2559)': 'Annotation'}, inplace=True)\n",
    "MIT1002_ProMM.rename(columns={'Identified Proteins (2893)': 'Annotation'}, inplace=True)\n",
    "MIT1002stat_ProMM.rename(columns={'Identified Proteins (2592)': 'Annotation'}, inplace=True)\n",
    "MIT1002_Secretome.rename(columns={'Identified Proteins (1005)':'Annotation'}, inplace=True)\n",
    "#print(MIT1002_Secretome)"
   ]
  },
  {
   "cell_type": "code",
   "execution_count": 28,
   "id": "0a8a8878",
   "metadata": {},
   "outputs": [],
   "source": [
    "def sort_by_accession_no(df):\n",
    "    # Sort the DataFrame by 'Accession Number'\n",
    "    sorted_df = df.sort_values(by='Accession Number')\n",
    "    \n",
    "    # Filter the DataFrame to keep only the required columns\n",
    "    filtered_df = sorted_df[['Accession Number', 'Annotation', 'Row_Average', 'STD']]\n",
    "    \n",
    "    return filtered_df\n",
    "\n",
    "def sort_by_accession_no_sec(df):\n",
    "    # Sort the DataFrame by 'Accession Number'\n",
    "    sorted_df = df.sort_values(by='Accession Number')\n",
    "    \n",
    "    # Filter the DataFrame to keep only the required columns\n",
    "    filtered_df = sorted_df[['Accession Number', 'Annotation', 'Row_Average_A', 'Row_Average_P', 'STD_A', 'STD_P']]\n",
    "    \n",
    "    return filtered_df"
   ]
  },
  {
   "cell_type": "code",
   "execution_count": 29,
   "id": "a3200f6b",
   "metadata": {},
   "outputs": [
    {
     "name": "stdout",
     "output_type": "stream",
     "text": [
      "     Accession Number                                         Annotation  \\\n",
      "599           SPO0001               glucose inhibited division protein A   \n",
      "2044          SPO0002               glucose-inhibited division protein B   \n",
      "1441          SPO0003               chromosome partitioning protein ParA   \n",
      "814           SPO0004               chromosome partitioning protein parB   \n",
      "1887          SPO0006  oxygen-independent coproporphyrinogen III oxid...   \n",
      "...               ...                                                ...   \n",
      "1355         SPOA0444                                            Unknown   \n",
      "2738         SPOA0445                                            Unknown   \n",
      "1872         SPOA0449                                            Unknown   \n",
      "2786         SPOA0451                                            Unknown   \n",
      "1686         SPOA0452                                            Unknown   \n",
      "\n",
      "      Row_Average       STD  \n",
      "599     56.666667  6.506407  \n",
      "2044     8.666667  2.081666  \n",
      "1441    17.666667  2.081666  \n",
      "814     47.000000  7.000000  \n",
      "1887     5.000000  3.605551  \n",
      "...           ...       ...  \n",
      "1355    21.666667  0.577350  \n",
      "2738     3.666667  0.577350  \n",
      "1872     7.666667  0.577350  \n",
      "2786     2.000000  1.000000  \n",
      "1686    11.666667  1.527525  \n",
      "\n",
      "[2990 rows x 4 columns]\n",
      "     Accession Number                            Annotation  Row_Average_A  \\\n",
      "416           SPO0001  glucose inhibited division protein A      12.333333   \n",
      "2890    SPO0001-DECOY  glucose inhibited division protein A       0.000000   \n",
      "3505          SPO0002  glucose-inhibited division protein B       1.000000   \n",
      "1633          SPO0003  chromosome partitioning protein ParA       0.333333   \n",
      "774           SPO0004  chromosome partitioning protein parB       3.333333   \n",
      "...               ...                                   ...            ...   \n",
      "1768         SPOA0443                               Unknown       0.000000   \n",
      "198          SPOA0444                               Unknown       8.000000   \n",
      "1569         SPOA0451                               Unknown       1.000000   \n",
      "3055   SPOA0451-DECOY                               Unknown       0.000000   \n",
      "466          SPOA0452                               Unknown       0.666667   \n",
      "\n",
      "      Row_Average_P     STD_A      STD_P  \n",
      "416        0.333333  2.081666   0.577350  \n",
      "2890       0.000000  0.000000   0.000000  \n",
      "3505       0.000000  1.000000   0.000000  \n",
      "1633       1.666667  0.577350   2.081666  \n",
      "774        5.666667  0.577350   2.309401  \n",
      "...             ...       ...        ...  \n",
      "1768       1.666667  0.000000   0.577350  \n",
      "198       34.000000  4.358899  13.114877  \n",
      "1569       4.666667  1.000000   1.527525  \n",
      "3055       0.000000  0.000000   0.000000  \n",
      "466        2.333333  1.154701   4.041452  \n",
      "\n",
      "[3558 rows x 6 columns]\n"
     ]
    }
   ],
   "source": [
    "# Sort and select DSS3\n",
    "Sorted_DSS3_ACD = sort_by_accession_no(DSS3_ACD)\n",
    "Sorted_DSS3_ProMM = sort_by_accession_no(DSS3_ProMM)\n",
    "Sorted_DSS3_ACD_stat = sort_by_accession_no(DSS3stat_ACD)\n",
    "Sorted_DSS3_ProMM_stat = sort_by_accession_no(DSS3stat_ProMM)\n",
    "Sorted_DSS3_Secretome = sort_by_accession_no_sec(DSS3_Secretome)\n",
    "\n",
    "# Sort and select MIT1002\n",
    "Sorted_MIT1002_ACD = sort_by_accession_no(MIT1002_ACD)\n",
    "Sorted_MIT1002_ProMM = sort_by_accession_no(MIT1002_ProMM)\n",
    "Sorted_MIT1002_ACD_stat = sort_by_accession_no(MIT1002stat_ACD)\n",
    "Sorted_MIT1002_ProMM_stat = sort_by_accession_no(MIT1002stat_ProMM)\n",
    "Sorted_MIT1002_Secretome = sort_by_accession_no_sec(MIT1002_Secretome)\n",
    "\n",
    "print(Sorted_DSS3_ACD)\n",
    "print(Sorted_DSS3_Secretome)"
   ]
  },
  {
   "cell_type": "markdown",
   "id": "ec75a755",
   "metadata": {},
   "source": [
    "Now that we sorted the values, we can write a function that allows us to combine the dataframes of the individual treatments into one, sorted by the annotations. "
   ]
  },
  {
   "cell_type": "code",
   "execution_count": 30,
   "id": "597bb538",
   "metadata": {},
   "outputs": [],
   "source": [
    "def merge_and_format(df1, df2, suf_1='', suf_2=''):\n",
    "    merged_df = pd.merge(df1, df2, on=\"Accession Number\", how=\"outer\", suffixes=(suf_1, suf_2))\n",
    "    fillna = merged_df.fillna(0, inplace=True)\n",
    "    annotations_A = merged_df['Annotation{}'.format(suf_1)].replace(0, \"Unknown\")\n",
    "    annotations_P = merged_df['Annotation{}'.format(suf_2)].replace(0, \"Unknown\")\n",
    "    return merged_df\n",
    "\n",
    "def format_sec(df):\n",
    "    fillna = df.fillna(0, inplace=True)\n",
    "    annotations = df['Annotation'].replace(0, \"Unknown\")\n",
    "    return df"
   ]
  },
  {
   "cell_type": "code",
   "execution_count": 31,
   "id": "653b9beb",
   "metadata": {
    "scrolled": true
   },
   "outputs": [
    {
     "name": "stdout",
     "output_type": "stream",
     "text": [
      "    Accession Number                                         Annotation  \\\n",
      "436       VTP50002.1  hypothetical protein MIT1002_00005 [Alteromona...   \n",
      "803       VTP50004.1  glycyl-tRNA synthetase alpha chain [Alteromona...   \n",
      "212       VTP50009.1            Cytochrome c553 [Alteromonas macleodii]   \n",
      "813       VTP50016.1  methionyl-tRNA formyltransferase [Alteromonas ...   \n",
      "555       VTP50017.1        peptide deformylase [Alteromonas macleodii]   \n",
      "..               ...                                                ...   \n",
      "587       VTP58108.1  hypothetical protein MIT1002_04201 [Alteromona...   \n",
      "7         VTP58112.1  protein of unknown function (DUF1259) [Alterom...   \n",
      "778       VTP58121.1  Signal transduction histidine kinase [Alteromo...   \n",
      "976       VTP58127.1  Methyl-accepting chemotaxis protein (MCP) sign...   \n",
      "896       VTP58133.1  hypothetical protein MIT1002_04226 [Alteromona...   \n",
      "\n",
      "     Row_Average_A  Row_Average_P      STD_A      STD_P  \n",
      "436       2.333333       7.333333   1.527525   6.429101  \n",
      "803       0.000000       0.666667   0.000000   1.154701  \n",
      "212       7.000000      11.000000   6.244998   8.185353  \n",
      "813       1.666667       0.000000   2.886751   0.000000  \n",
      "555       1.666667       0.000000   2.886751   0.000000  \n",
      "..             ...            ...        ...        ...  \n",
      "587       2.666667       1.000000   3.055050   1.732051  \n",
      "7        70.666667      99.333333  32.868425  51.858783  \n",
      "778       0.000000       1.333333   0.000000   1.527525  \n",
      "976       0.000000       0.333333   0.000000   0.577350  \n",
      "896       0.000000       1.666667   0.000000   2.081666  \n",
      "\n",
      "[1005 rows x 6 columns]\n"
     ]
    }
   ],
   "source": [
    "DSS3_MidLog = merge_and_format(Sorted_DSS3_ACD, Sorted_DSS3_ProMM, '_ACD', '_ProMM')\n",
    "DSS3_Stat = merge_and_format(Sorted_DSS3_ACD_stat, Sorted_DSS3_ProMM_stat, '_ACD', '_ProMM')\n",
    "DSS3_ACD_MLS = merge_and_format(Sorted_DSS3_ACD, Sorted_DSS3_ACD_stat, '_ML', '_Stat')\n",
    "DSS3_ProMM_MLS = merge_and_format(Sorted_DSS3_ProMM, Sorted_DSS3_ProMM_stat, '_ML', '_Stat')\n",
    "DSS3_Secretome = format_sec(Sorted_DSS3_Secretome)\n",
    "\n",
    "MIT1002_MidLog = merge_and_format(Sorted_MIT1002_ACD, Sorted_MIT1002_ProMM, '_ACD', '_ProMM')\n",
    "MIT1002_Stat = merge_and_format(Sorted_MIT1002_ACD_stat, Sorted_MIT1002_ProMM_stat, '_ACD', '_ProMM')\n",
    "MIT1002_ACD_MLS = merge_and_format(Sorted_MIT1002_ACD, Sorted_MIT1002_ACD_stat, '_ML', '_Stat')\n",
    "MIT1002_ProMM_MLS = merge_and_format(Sorted_MIT1002_ProMM, Sorted_MIT1002_ProMM_stat, '_ML', '_Stat')\n",
    "MIT1002_Secretome = format_sec(Sorted_MIT1002_Secretome)\n",
    "\n",
    "print(MIT1002_Secretome)"
   ]
  },
  {
   "cell_type": "markdown",
   "id": "1ecc05c9",
   "metadata": {},
   "source": [
    "## Plot Treatments and Statistics\n",
    "In order to simplify the data evaluation, we first define a function, which allows us to plot each treatment against each other and calculate statistics such as R2 values for each condition. "
   ]
  },
  {
   "cell_type": "code",
   "execution_count": 32,
   "id": "ca79e2c6",
   "metadata": {},
   "outputs": [],
   "source": [
    "def plot_and_regression(df1, df2, df3, df4, df5, title='', filename=''):\n",
    "    x = df1.values\n",
    "    y = df2.values\n",
    "    z = df3.values\n",
    "    yerr = df4.values\n",
    "    xerr = df5.values\n",
    "    \n",
    "    # Perform linear regression\n",
    "    slope, intercept, r_value, p_value, std_err = stats.linregress(x, y)\n",
    "    \n",
    "    # Calculate predicted values\n",
    "    predicted_values = slope * x + intercept\n",
    "    \n",
    "    # Calculate R squared\n",
    "    r_squared = r_value ** 2\n",
    "\n",
    "    #PLOT\n",
    "    plt.figure(figsize=(8, 6))\n",
    "    \n",
    "    # Filter data points based on annotation\n",
    "    protease_indices = df1.index[df3.str.contains('protease', case=False)]\n",
    "    peptidase_indices = df1.index[df3.str.contains('peptidase', case=False)]\n",
    "    metalloprotease_indices = df1.index[df3.str.contains('metalloprotease', case=False)]\n",
    "    metallopeptidase_indices = df1.index[df3.str.contains('metallopeptidase', case=False)]\n",
    "    non_protease_indices = df1.index[~df3.str.contains('protease', case=False)]\n",
    "    \n",
    "    # Plot non-protease data points in black\n",
    "    plt.errorbar(x[non_protease_indices], y[non_protease_indices], yerr=yerr[non_protease_indices], xerr=xerr[non_protease_indices], fmt='o', label='Data (Non-Protease)', color='black')\n",
    "    \n",
    "    # Plot selected interesting protein functions in different colors\n",
    "    plt.errorbar(x[protease_indices], y[protease_indices], yerr=yerr[protease_indices], xerr=xerr[protease_indices], fmt='o', label='Data (Protease)', color='blue')\n",
    "    plt.errorbar(x[peptidase_indices], y[peptidase_indices], yerr=yerr[peptidase_indices], xerr=xerr[peptidase_indices], fmt='o', label='Data (Peptidase)', color='red')\n",
    "    plt.errorbar(x[metallopeptidase_indices], y[metallopeptidase_indices], yerr=yerr[metallopeptidase_indices], xerr=xerr[metallopeptidase_indices], fmt='o', label='Data (Metallopeptidase)', color='pink')\n",
    "    plt.errorbar(x[metalloprotease_indices], y[metalloprotease_indices], yerr=yerr[metalloprotease_indices], xerr=xerr[metalloprotease_indices], fmt='o', label='Data (Metalloprotease)', color='lightblue')\n",
    "\n",
    "    # Generate plot/figure\n",
    "    plt.plot(x, predicted_values, color='red', label='Linear Regression')\n",
    "    plt.title(f'{title} (R² = {r_squared:.2f})')\n",
    "    plt.xlabel(df1.name)\n",
    "    plt.ylabel(df2.name)\n",
    "    plt.legend()\n",
    "    #Comment out if you dont want to download a file\n",
    "    #plt.savefig(filename, format='pdf')\n",
    "    plt.show()\n",
    "    \n",
    "    return slope, intercept, std_err, df1, df2, df3"
   ]
  },
  {
   "cell_type": "markdown",
   "id": "0b4d14b1",
   "metadata": {},
   "source": [
    "### Extract confident proteins\n",
    "\n",
    "In addition to plotting with error bars we need to figure out which of the proteins are significantly deviating from the linear regression line. Therefore we first need to identify the 5% confidence interval. Once that is done, all the datapoints outside of the confidence interval should be printed, including their annotation and their mean spectral count. "
   ]
  },
  {
   "cell_type": "code",
   "execution_count": 33,
   "id": "45fbf99d",
   "metadata": {},
   "outputs": [],
   "source": [
    "def extract_outliers(slope, intercept, std_err, df1, df2, df3, filename, confidence_interval=0.95):\n",
    "    x = df1.values\n",
    "    y = df2.values\n",
    "    z = df3.values\n",
    "    \n",
    "    # Calculate predicted values\n",
    "    predicted_values = slope * x + intercept\n",
    "    \n",
    "    # Calculate residuals\n",
    "    residuals = y - predicted_values\n",
    "    \n",
    "    # Calculate standard deviation of residuals\n",
    "    residuals_std = np.std(residuals)\n",
    "    \n",
    "    # Calculate the confidence interval for the residuals\n",
    "    conf_interval = residuals_std * stats.t.ppf((1 + confidence_interval) / 2., len(x)-1)\n",
    "    \n",
    "    # Identify points outside the confidence interval\n",
    "    outlier_indices = np.where(np.abs(residuals) > conf_interval)[0]\n",
    "    \n",
    "    # Extract the corresponding rows from the DataFrame\n",
    "    outliers = df1.iloc[outlier_indices]\n",
    "    outlier_annotations = df3.iloc[outlier_indices]\n",
    "    \n",
    "    # Create a DataFrame to save the outliers and their annotations\n",
    "    outlier_df = pd.DataFrame({\n",
    "        'Value': outliers,\n",
    "        'Annotation': outlier_annotations,\n",
    "        'Predicted': predicted_values[outlier_indices],\n",
    "        'Residual': residuals[outlier_indices]\n",
    "    })\n",
    "    \n",
    "    # Write the DataFrame to a file. Comment out if you dont want to download a file\n",
    "    #outlier_df.to_csv(filename, sep='\\t', index=False)\n",
    "    \n",
    "    return outlier_df"
   ]
  },
  {
   "cell_type": "markdown",
   "id": "92760656",
   "metadata": {},
   "source": [
    "### Plotting x/y plots\n",
    "Lets use the plot_and_regression function to plot our x/y plots and extract significant outliers from the 95% confidence interval using the extract_outliers function"
   ]
  },
  {
   "cell_type": "code",
   "execution_count": 34,
   "id": "a1e21218",
   "metadata": {
    "scrolled": true
   },
   "outputs": [
    {
     "ename": "ValueError",
     "evalue": "Cannot mask with non-boolean array containing NA / NaN values",
     "output_type": "error",
     "traceback": [
      "\u001b[0;31m---------------------------------------------------------------------------\u001b[0m",
      "\u001b[0;31mValueError\u001b[0m                                Traceback (most recent call last)",
      "Cell \u001b[0;32mIn[34], line 2\u001b[0m\n\u001b[1;32m      1\u001b[0m \u001b[38;5;66;03m#Plot DSS3 in Midlog phase grown in AC Difco vs. grown in ProMM minimal medium\u001b[39;00m\n\u001b[0;32m----> 2\u001b[0m slope, intercept, std_err, df1, df2, df3 \u001b[38;5;241m=\u001b[39m plot_and_regression(DSS3_MidLog[\u001b[38;5;124m\"\u001b[39m\u001b[38;5;124mRow_Average_ACD\u001b[39m\u001b[38;5;124m\"\u001b[39m], DSS3_MidLog[\u001b[38;5;124m\"\u001b[39m\u001b[38;5;124mRow_Average_ProMM\u001b[39m\u001b[38;5;124m\"\u001b[39m], DSS3_MidLog[\u001b[38;5;124m\"\u001b[39m\u001b[38;5;124mAnnotation_ACD\u001b[39m\u001b[38;5;124m\"\u001b[39m], DSS3_MidLog[\u001b[38;5;124m\"\u001b[39m\u001b[38;5;124mSTD_ProMM\u001b[39m\u001b[38;5;124m\"\u001b[39m], DSS3_MidLog[\u001b[38;5;124m\"\u001b[39m\u001b[38;5;124mSTD_ACD\u001b[39m\u001b[38;5;124m\"\u001b[39m], title\u001b[38;5;241m=\u001b[39m\u001b[38;5;124m'\u001b[39m\u001b[38;5;124mDSS-3 (MidLog) ACD vs. ProMM\u001b[39m\u001b[38;5;124m'\u001b[39m, filename \u001b[38;5;241m=\u001b[39m\u001b[38;5;124m\"\u001b[39m\u001b[38;5;124mDSS3_ML_ACDvsProMM.pdf\u001b[39m\u001b[38;5;124m\"\u001b[39m)\n\u001b[1;32m      3\u001b[0m \u001b[38;5;66;03m# Then extract the outliers\u001b[39;00m\n\u001b[1;32m      4\u001b[0m extract_outliers(slope, intercept, std_err, DSS3_MidLog[\u001b[38;5;124m\"\u001b[39m\u001b[38;5;124mRow_Average_ACD\u001b[39m\u001b[38;5;124m\"\u001b[39m], DSS3_MidLog[\u001b[38;5;124m\"\u001b[39m\u001b[38;5;124mRow_Average_ProMM\u001b[39m\u001b[38;5;124m\"\u001b[39m], DSS3_MidLog[\u001b[38;5;124m\"\u001b[39m\u001b[38;5;124mAnnotation_ACD\u001b[39m\u001b[38;5;124m\"\u001b[39m], filename\u001b[38;5;241m=\u001b[39m\u001b[38;5;124m'\u001b[39m\u001b[38;5;124mDSS3_ML_ACDvsProMM_outliers.csv\u001b[39m\u001b[38;5;124m'\u001b[39m)\n",
      "Cell \u001b[0;32mIn[32], line 21\u001b[0m, in \u001b[0;36mplot_and_regression\u001b[0;34m(df1, df2, df3, df4, df5, title, filename)\u001b[0m\n\u001b[1;32m     18\u001b[0m plt\u001b[38;5;241m.\u001b[39mfigure(figsize\u001b[38;5;241m=\u001b[39m(\u001b[38;5;241m8\u001b[39m, \u001b[38;5;241m6\u001b[39m))\n\u001b[1;32m     20\u001b[0m \u001b[38;5;66;03m# Filter data points based on annotation\u001b[39;00m\n\u001b[0;32m---> 21\u001b[0m protease_indices \u001b[38;5;241m=\u001b[39m df1\u001b[38;5;241m.\u001b[39mindex[df3\u001b[38;5;241m.\u001b[39mstr\u001b[38;5;241m.\u001b[39mcontains(\u001b[38;5;124m'\u001b[39m\u001b[38;5;124mprotease\u001b[39m\u001b[38;5;124m'\u001b[39m, case\u001b[38;5;241m=\u001b[39m\u001b[38;5;28;01mFalse\u001b[39;00m)]\n\u001b[1;32m     22\u001b[0m peptidase_indices \u001b[38;5;241m=\u001b[39m df1\u001b[38;5;241m.\u001b[39mindex[df3\u001b[38;5;241m.\u001b[39mstr\u001b[38;5;241m.\u001b[39mcontains(\u001b[38;5;124m'\u001b[39m\u001b[38;5;124mpeptidase\u001b[39m\u001b[38;5;124m'\u001b[39m, case\u001b[38;5;241m=\u001b[39m\u001b[38;5;28;01mFalse\u001b[39;00m)]\n\u001b[1;32m     23\u001b[0m metalloprotease_indices \u001b[38;5;241m=\u001b[39m df1\u001b[38;5;241m.\u001b[39mindex[df3\u001b[38;5;241m.\u001b[39mstr\u001b[38;5;241m.\u001b[39mcontains(\u001b[38;5;124m'\u001b[39m\u001b[38;5;124mmetalloprotease\u001b[39m\u001b[38;5;124m'\u001b[39m, case\u001b[38;5;241m=\u001b[39m\u001b[38;5;28;01mFalse\u001b[39;00m)]\n",
      "File \u001b[0;32m~/.conda/envs/python_lab/lib/python3.11/site-packages/pandas/core/indexes/range.py:924\u001b[0m, in \u001b[0;36mRangeIndex.__getitem__\u001b[0;34m(self, key)\u001b[0m\n\u001b[1;32m    917\u001b[0m \u001b[38;5;28;01melif\u001b[39;00m is_scalar(key):\n\u001b[1;32m    918\u001b[0m     \u001b[38;5;28;01mraise\u001b[39;00m \u001b[38;5;167;01mIndexError\u001b[39;00m(\n\u001b[1;32m    919\u001b[0m         \u001b[38;5;124m\"\u001b[39m\u001b[38;5;124monly integers, slices (`:`), \u001b[39m\u001b[38;5;124m\"\u001b[39m\n\u001b[1;32m    920\u001b[0m         \u001b[38;5;124m\"\u001b[39m\u001b[38;5;124mellipsis (`...`), numpy.newaxis (`None`) \u001b[39m\u001b[38;5;124m\"\u001b[39m\n\u001b[1;32m    921\u001b[0m         \u001b[38;5;124m\"\u001b[39m\u001b[38;5;124mand integer or boolean \u001b[39m\u001b[38;5;124m\"\u001b[39m\n\u001b[1;32m    922\u001b[0m         \u001b[38;5;124m\"\u001b[39m\u001b[38;5;124marrays are valid indices\u001b[39m\u001b[38;5;124m\"\u001b[39m\n\u001b[1;32m    923\u001b[0m     )\n\u001b[0;32m--> 924\u001b[0m \u001b[38;5;28;01mreturn\u001b[39;00m \u001b[38;5;28msuper\u001b[39m()\u001b[38;5;241m.\u001b[39m\u001b[38;5;21m__getitem__\u001b[39m(key)\n",
      "File \u001b[0;32m~/.conda/envs/python_lab/lib/python3.11/site-packages/pandas/core/indexes/base.py:5186\u001b[0m, in \u001b[0;36mIndex.__getitem__\u001b[0;34m(self, key)\u001b[0m\n\u001b[1;32m   5181\u001b[0m     \u001b[38;5;66;03m# Going through simple_new for performance.\u001b[39;00m\n\u001b[1;32m   5182\u001b[0m     \u001b[38;5;28;01mreturn\u001b[39;00m \u001b[38;5;28mtype\u001b[39m(\u001b[38;5;28mself\u001b[39m)\u001b[38;5;241m.\u001b[39m_simple_new(\n\u001b[1;32m   5183\u001b[0m         result, name\u001b[38;5;241m=\u001b[39m\u001b[38;5;28mself\u001b[39m\u001b[38;5;241m.\u001b[39m_name, refs\u001b[38;5;241m=\u001b[39m\u001b[38;5;28mself\u001b[39m\u001b[38;5;241m.\u001b[39m_references\n\u001b[1;32m   5184\u001b[0m     )\n\u001b[0;32m-> 5186\u001b[0m \u001b[38;5;28;01mif\u001b[39;00m com\u001b[38;5;241m.\u001b[39mis_bool_indexer(key):\n\u001b[1;32m   5187\u001b[0m     \u001b[38;5;66;03m# if we have list[bools, length=1e5] then doing this check+convert\u001b[39;00m\n\u001b[1;32m   5188\u001b[0m     \u001b[38;5;66;03m#  takes 166 µs + 2.1 ms and cuts the ndarray.__getitem__\u001b[39;00m\n\u001b[1;32m   5189\u001b[0m     \u001b[38;5;66;03m#  time below from 3.8 ms to 496 µs\u001b[39;00m\n\u001b[1;32m   5190\u001b[0m     \u001b[38;5;66;03m# if we already have ndarray[bool], the overhead is 1.4 µs or .25%\u001b[39;00m\n\u001b[1;32m   5191\u001b[0m     \u001b[38;5;28;01mif\u001b[39;00m is_extension_array_dtype(\u001b[38;5;28mgetattr\u001b[39m(key, \u001b[38;5;124m\"\u001b[39m\u001b[38;5;124mdtype\u001b[39m\u001b[38;5;124m\"\u001b[39m, \u001b[38;5;28;01mNone\u001b[39;00m)):\n\u001b[1;32m   5192\u001b[0m         key \u001b[38;5;241m=\u001b[39m key\u001b[38;5;241m.\u001b[39mto_numpy(dtype\u001b[38;5;241m=\u001b[39m\u001b[38;5;28mbool\u001b[39m, na_value\u001b[38;5;241m=\u001b[39m\u001b[38;5;28;01mFalse\u001b[39;00m)\n",
      "File \u001b[0;32m~/.conda/envs/python_lab/lib/python3.11/site-packages/pandas/core/common.py:134\u001b[0m, in \u001b[0;36mis_bool_indexer\u001b[0;34m(key)\u001b[0m\n\u001b[1;32m    130\u001b[0m     na_msg \u001b[38;5;241m=\u001b[39m \u001b[38;5;124m\"\u001b[39m\u001b[38;5;124mCannot mask with non-boolean array containing NA / NaN values\u001b[39m\u001b[38;5;124m\"\u001b[39m\n\u001b[1;32m    131\u001b[0m     \u001b[38;5;28;01mif\u001b[39;00m lib\u001b[38;5;241m.\u001b[39minfer_dtype(key_array) \u001b[38;5;241m==\u001b[39m \u001b[38;5;124m\"\u001b[39m\u001b[38;5;124mboolean\u001b[39m\u001b[38;5;124m\"\u001b[39m \u001b[38;5;129;01mand\u001b[39;00m isna(key_array)\u001b[38;5;241m.\u001b[39many():\n\u001b[1;32m    132\u001b[0m         \u001b[38;5;66;03m# Don't raise on e.g. [\"A\", \"B\", np.nan], see\u001b[39;00m\n\u001b[1;32m    133\u001b[0m         \u001b[38;5;66;03m#  test_loc_getitem_list_of_labels_categoricalindex_with_na\u001b[39;00m\n\u001b[0;32m--> 134\u001b[0m         \u001b[38;5;28;01mraise\u001b[39;00m \u001b[38;5;167;01mValueError\u001b[39;00m(na_msg)\n\u001b[1;32m    135\u001b[0m     \u001b[38;5;28;01mreturn\u001b[39;00m \u001b[38;5;28;01mFalse\u001b[39;00m\n\u001b[1;32m    136\u001b[0m \u001b[38;5;28;01mreturn\u001b[39;00m \u001b[38;5;28;01mTrue\u001b[39;00m\n",
      "\u001b[0;31mValueError\u001b[0m: Cannot mask with non-boolean array containing NA / NaN values"
     ]
    },
    {
     "data": {
      "text/plain": [
       "<Figure size 800x600 with 0 Axes>"
      ]
     },
     "metadata": {},
     "output_type": "display_data"
    }
   ],
   "source": [
    "#Plot DSS3 in Midlog phase grown in AC Difco vs. grown in ProMM minimal medium\n",
    "slope, intercept, std_err, df1, df2, df3 = plot_and_regression(DSS3_MidLog[\"Row_Average_ACD\"], DSS3_MidLog[\"Row_Average_ProMM\"], DSS3_MidLog[\"Annotation_ACD\"], DSS3_MidLog[\"STD_ProMM\"], DSS3_MidLog[\"STD_ACD\"], title='DSS-3 (MidLog) ACD vs. ProMM', filename =\"DSS3_ML_ACDvsProMM.pdf\")\n",
    "# Then extract the outliers\n",
    "extract_outliers(slope, intercept, std_err, DSS3_MidLog[\"Row_Average_ACD\"], DSS3_MidLog[\"Row_Average_ProMM\"], DSS3_MidLog[\"Annotation_ACD\"], filename='DSS3_ML_ACDvsProMM_outliers.csv')\n"
   ]
  },
  {
   "cell_type": "code",
   "execution_count": null,
   "id": "fcb146ef",
   "metadata": {},
   "outputs": [],
   "source": [
    "#Plot MIT1002 in Midlog phase grown in AC Difco vs. grown in ProMM minimal medium\n",
    "slope, intercept, std_err, df1, df2, df3 = plot_and_regression(MIT1002_MidLog[\"Row_Average_ACD\"], MIT1002_MidLog[\"Row_Average_ProMM\"], MIT1002_MidLog[\"Annotation_ACD\"], MIT1002_MidLog[\"STD_ProMM\"], MIT1002_MidLog[\"STD_ACD\"], title='MIT1002 (MidLog) ACD vs. ProMM', filename =\"MIT1002_ML_ACDvsProMM.pdf\")\n",
    "extract_outliers(slope, intercept, std_err, MIT1002_MidLog[\"Row_Average_ACD\"], MIT1002_MidLog[\"Row_Average_ProMM\"], MIT1002_MidLog[\"Annotation_ACD\"], filename='MIT1002_ML_ACDvsProMM_outliers.csv')"
   ]
  },
  {
   "cell_type": "code",
   "execution_count": null,
   "id": "2efd7278",
   "metadata": {},
   "outputs": [],
   "source": [
    "#Plot DSS3 in Stationary phase grown in AC Difco vs. grown in ProMM minimal medium\n",
    "slope, intercept, std_err, df1, df2, df3 = plot_and_regression(DSS3_Stat[\"Row_Average_ACD\"], DSS3_Stat[\"Row_Average_ProMM\"], DSS3_Stat[\"Annotation_ACD\"], DSS3_Stat[\"STD_ProMM\"], DSS3_Stat[\"STD_ACD\"], title='DSS-3 (Stationary) ACD vs. ProMM', filename =\"DSS3_S_ACDvsProMM.pdf\")\n",
    "extract_outliers(slope, intercept, std_err, DSS3_Stat[\"Row_Average_ACD\"], DSS3_Stat[\"Row_Average_ProMM\"], DSS3_Stat[\"Annotation_ACD\"], filename='DSS3_S_ACDvsProMM_outliers.csv')"
   ]
  },
  {
   "cell_type": "code",
   "execution_count": null,
   "id": "e5e7252c",
   "metadata": {},
   "outputs": [],
   "source": [
    "#Plot MIT1002 in Stationary phase grown in AC Difco vs. grown in ProMM minimal medium\n",
    "slope, intercept, std_err, df1, df2, df3 = plot_and_regression(MIT1002_Stat[\"Row_Average_ACD\"], MIT1002_Stat[\"Row_Average_ProMM\"], MIT1002_Stat[\"Annotation_ACD\"], MIT1002_Stat[\"STD_ProMM\"], MIT1002_Stat[\"STD_ACD\"], title='MIT1002 (Stationary) ACD vs. ProMM', filename =\"MIT1002_S_ACDvsProMM.pdf\")\n",
    "extract_outliers(slope, intercept, std_err, MIT1002_Stat[\"Row_Average_ACD\"], MIT1002_Stat[\"Row_Average_ProMM\"], MIT1002_Stat[\"Annotation_ACD\"], filename='MIT1002_S_ACDvsProMM_outliers.csv')"
   ]
  },
  {
   "cell_type": "code",
   "execution_count": null,
   "id": "eeea6c07",
   "metadata": {},
   "outputs": [],
   "source": [
    "#Plot DSS3 grown in AC Difco in Midlog phase vs. Stationary phase \n",
    "slope, intercept, std_err, df1, df2, df3 = plot_and_regression(DSS3_ACD_MLS[\"Row_Average_ML\"], DSS3_ACD_MLS[\"Row_Average_S\"], DSS3_ACD_MLS[\"Annotation_ML\"], DSS3_ACD_MLS[\"STD_S\"], DSS3_ACD_MLS[\"STD_ML\"], title='DSS3 in ACD Midlog vs. Stationary', filename=\"DSS3_ACD_MLS.pdf\")\n",
    "extract_outliers(slope, intercept, std_err, DSS3_ACD_MLS[\"Row_Average_ML\"], DSS3_ACD_MLS[\"Row_Average_S\"], DSS3_ACD_MLS[\"Annotation_ML\"], filename='DSS3_ACD_MLS_outliers.csv')"
   ]
  },
  {
   "cell_type": "code",
   "execution_count": null,
   "id": "aa8792e5",
   "metadata": {},
   "outputs": [],
   "source": [
    "#Plot MIT1002 grown in AC Difco in Midlog phase vs. Stationary phase \n",
    "slope, intercept, std_err, df1, df2, df3 = plot_and_regression(MIT1002_ACD_MLS[\"Row_Average_ML\"], MIT1002_ACD_MLS[\"Row_Average_S\"], MIT1002_ACD_MLS[\"Annotation_ML\"], MIT1002_ACD_MLS[\"STD_S\"],MIT1002_ACD_MLS[\"STD_ML\"], title='MIT1002 in ACD Midlog vs. Stationary', filename=\"MIT1002_ACD_MLS.pdf\")\n",
    "extract_outliers(slope, intercept, std_err, MIT1002_ACD_MLS[\"Row_Average_ML\"], MIT1002_ACD_MLS[\"Row_Average_S\"], MIT1002_ACD_MLS[\"Annotation_ML\"], filename='MIT1002_ACD_MLS_outliers.csv')"
   ]
  },
  {
   "cell_type": "code",
   "execution_count": null,
   "id": "4c5f93f3",
   "metadata": {},
   "outputs": [],
   "source": [
    "#Plot DSS3 grown in ProMM in Midlog phase vs. Stationary phase \n",
    "slope, intercept, std_err, df1, df2, df3 = plot_and_regression(DSS3_ProMM_MLS[\"Row_Average_ML\"], DSS3_ProMM_MLS[\"Row_Average_S\"], DSS3_ProMM_MLS[\"Annotation_ML\"], DSS3_ProMM_MLS[\"STD_S\"], DSS3_ProMM_MLS[\"STD_ML\"], title='DSS3 in ProMM Midlog vs. Stationary', filename=\"DSS3_ProMM_MLS.pdf\")\n",
    "extract_outliers(slope, intercept, std_err, DSS3_ProMM_MLS[\"Row_Average_ML\"], DSS3_ProMM_MLS[\"Row_Average_S\"], DSS3_ProMM_MLS[\"Annotation_ML\"], filename='DSS3_ProMM_MLS_outliers.csv')"
   ]
  },
  {
   "cell_type": "code",
   "execution_count": null,
   "id": "bdf531ed",
   "metadata": {},
   "outputs": [],
   "source": [
    "#Plot MIT1002 grown in ProMM in Midlog phase vs. Stationary phase \n",
    "slope, intercept, std_err, df1, df2, df3 = plot_and_regression(MIT1002_ProMM_MLS[\"Row_Average_ML\"], MIT1002_ProMM_MLS[\"Row_Average_S\"], MIT1002_ProMM_MLS[\"Annotation_ML\"], MIT1002_ProMM_MLS[\"STD_S\"],MIT1002_ProMM_MLS[\"STD_ML\"], title='MIT1002 in ProMM Midlog vs. Stationary', filename=\"MIT1002_ProMM_MLS.pdf\")\n",
    "extract_outliers(slope, intercept, std_err, MIT1002_ProMM_MLS[\"Row_Average_ML\"], MIT1002_ProMM_MLS[\"Row_Average_S\"], MIT1002_ProMM_MLS[\"Annotation_ML\"], filename='MIT1002_ProMM_MLS_outliers.csv')"
   ]
  },
  {
   "cell_type": "code",
   "execution_count": null,
   "id": "8085b6b9",
   "metadata": {},
   "outputs": [],
   "source": [
    "#Plot DSS3 Secretome from cells grown in ACD vs. ProMM\n",
    "slope, intercept, std_err, df1, df2, df3 = plot_and_regression(Sorted_DSS3_Secretome[\"Row_Average_A\"], Sorted_DSS3_Secretome[\"Row_Average_P\"], Sorted_DSS3_Secretome[\"Annotation\"], Sorted_DSS3_Secretome[\"STD_A\"], Sorted_DSS3_Secretome[\"STD_P\"], title='DSS3 Secretome ACD vs. ProMM', filename=\"DSS3_Secretome_AP.pdf\")\n",
    "extract_outliers(slope, intercept, std_err, Sorted_DSS3_Secretome[\"Row_Average_A\"], Sorted_DSS3_Secretome[\"Row_Average_P\"], Sorted_DSS3_Secretome[\"Annotation\"], filename='DSS3_Secretome_AP_outliers.csv')"
   ]
  },
  {
   "cell_type": "code",
   "execution_count": null,
   "id": "f07f9725",
   "metadata": {},
   "outputs": [],
   "source": [
    "#Plot MIT1002 Secretome from cells grown in ACD vs. ProMM\n",
    "slope, intercept, std_err, df1, df2, df3 = plot_and_regression(Sorted_MIT1002_Secretome[\"Row_Average_A\"], Sorted_MIT1002_Secretome[\"Row_Average_P\"], Sorted_MIT1002_Secretome[\"Annotation\"], Sorted_MIT1002_Secretome[\"STD_A\"],Sorted_MIT1002_Secretome[\"STD_P\"], title='MIT1002 Secretome ACD vs. ProMM', filename=\"MIT1002_Secretome_AP.pdf\")\n",
    "extract_outliers(slope, intercept, std_err, Sorted_MIT1002_Secretome[\"Row_Average_A\"], Sorted_MIT1002_Secretome[\"Row_Average_P\"], Sorted_MIT1002_Secretome[\"Annotation\"], filename='MIT1002_Secretome_AP_outliers.csv')"
   ]
  },
  {
   "cell_type": "markdown",
   "id": "ec299139",
   "metadata": {},
   "source": []
  },
  {
   "cell_type": "code",
   "execution_count": null,
   "id": "4ff2a1ae",
   "metadata": {},
   "outputs": [],
   "source": []
  }
 ],
 "metadata": {
  "kernelspec": {
   "display_name": "Python 3 (ipykernel)",
   "language": "python",
   "name": "python3"
  },
  "language_info": {
   "codemirror_mode": {
    "name": "ipython",
    "version": 3
   },
   "file_extension": ".py",
   "mimetype": "text/x-python",
   "name": "python",
   "nbconvert_exporter": "python",
   "pygments_lexer": "ipython3",
   "version": "3.11.5"
  }
 },
 "nbformat": 4,
 "nbformat_minor": 5
}
